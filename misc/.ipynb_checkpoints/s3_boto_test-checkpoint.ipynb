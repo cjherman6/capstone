{
 "cells": [
  {
   "cell_type": "code",
   "execution_count": 44,
   "metadata": {},
   "outputs": [],
   "source": [
    "import boto3\n",
    "import pandas as pd\n",
    "import matplotlib.pyplot as plt\n",
    "%matplotlib inline"
   ]
  },
  {
   "cell_type": "code",
   "execution_count": 46,
   "metadata": {},
   "outputs": [],
   "source": [
    "s3 = boto3.client(\"s3\")"
   ]
  },
  {
   "cell_type": "code",
   "execution_count": 23,
   "metadata": {
    "scrolled": true
   },
   "outputs": [],
   "source": [
    "df = pd.read_csv('https://s3.amazonaws.com/capstone-bucket-galvd83/cancer.csv')"
   ]
  },
  {
   "cell_type": "code",
   "execution_count": 25,
   "metadata": {},
   "outputs": [],
   "source": [
    "df = df.groupby('population').agg('sum')"
   ]
  },
  {
   "cell_type": "code",
   "execution_count": 26,
   "metadata": {},
   "outputs": [
    {
     "data": {
      "text/html": [
       "<div>\n",
       "<style scoped>\n",
       "    .dataframe tbody tr th:only-of-type {\n",
       "        vertical-align: middle;\n",
       "    }\n",
       "\n",
       "    .dataframe tbody tr th {\n",
       "        vertical-align: top;\n",
       "    }\n",
       "\n",
       "    .dataframe thead th {\n",
       "        text-align: right;\n",
       "    }\n",
       "</style>\n",
       "<table border=\"1\" class=\"dataframe\">\n",
       "  <thead>\n",
       "    <tr style=\"text-align: right;\">\n",
       "      <th></th>\n",
       "      <th>cancer</th>\n",
       "    </tr>\n",
       "    <tr>\n",
       "      <th>population</th>\n",
       "      <th></th>\n",
       "    </tr>\n",
       "  </thead>\n",
       "  <tbody>\n",
       "    <tr>\n",
       "      <th>445.0</th>\n",
       "      <td>1.0</td>\n",
       "    </tr>\n",
       "    <tr>\n",
       "      <th>559.0</th>\n",
       "      <td>0.0</td>\n",
       "    </tr>\n",
       "    <tr>\n",
       "      <th>677.0</th>\n",
       "      <td>3.0</td>\n",
       "    </tr>\n",
       "    <tr>\n",
       "      <th>681.0</th>\n",
       "      <td>4.0</td>\n",
       "    </tr>\n",
       "    <tr>\n",
       "      <th>746.0</th>\n",
       "      <td>3.0</td>\n",
       "    </tr>\n",
       "    <tr>\n",
       "      <th>869.0</th>\n",
       "      <td>4.0</td>\n",
       "    </tr>\n",
       "    <tr>\n",
       "      <th>950.0</th>\n",
       "      <td>1.0</td>\n",
       "    </tr>\n",
       "    <tr>\n",
       "      <th>976.0</th>\n",
       "      <td>5.0</td>\n",
       "    </tr>\n",
       "    <tr>\n",
       "      <th>1096.0</th>\n",
       "      <td>5.0</td>\n",
       "    </tr>\n",
       "    <tr>\n",
       "      <th>1098.0</th>\n",
       "      <td>5.0</td>\n",
       "    </tr>\n",
       "    <tr>\n",
       "      <th>1114.0</th>\n",
       "      <td>5.0</td>\n",
       "    </tr>\n",
       "    <tr>\n",
       "      <th>1125.0</th>\n",
       "      <td>7.0</td>\n",
       "    </tr>\n",
       "    <tr>\n",
       "      <th>1236.0</th>\n",
       "      <td>5.0</td>\n",
       "    </tr>\n",
       "    <tr>\n",
       "      <th>1285.0</th>\n",
       "      <td>6.0</td>\n",
       "    </tr>\n",
       "    <tr>\n",
       "      <th>1291.0</th>\n",
       "      <td>3.0</td>\n",
       "    </tr>\n",
       "    <tr>\n",
       "      <th>1318.0</th>\n",
       "      <td>3.0</td>\n",
       "    </tr>\n",
       "    <tr>\n",
       "      <th>1323.0</th>\n",
       "      <td>2.0</td>\n",
       "    </tr>\n",
       "    <tr>\n",
       "      <th>1327.0</th>\n",
       "      <td>8.0</td>\n",
       "    </tr>\n",
       "    <tr>\n",
       "      <th>1438.0</th>\n",
       "      <td>9.0</td>\n",
       "    </tr>\n",
       "    <tr>\n",
       "      <th>1479.0</th>\n",
       "      <td>7.0</td>\n",
       "    </tr>\n",
       "    <tr>\n",
       "      <th>1536.0</th>\n",
       "      <td>4.0</td>\n",
       "    </tr>\n",
       "    <tr>\n",
       "      <th>1598.0</th>\n",
       "      <td>6.0</td>\n",
       "    </tr>\n",
       "    <tr>\n",
       "      <th>1635.0</th>\n",
       "      <td>6.0</td>\n",
       "    </tr>\n",
       "    <tr>\n",
       "      <th>1667.0</th>\n",
       "      <td>11.0</td>\n",
       "    </tr>\n",
       "    <tr>\n",
       "      <th>1696.0</th>\n",
       "      <td>4.0</td>\n",
       "    </tr>\n",
       "    <tr>\n",
       "      <th>1792.0</th>\n",
       "      <td>7.0</td>\n",
       "    </tr>\n",
       "    <tr>\n",
       "      <th>1795.0</th>\n",
       "      <td>7.0</td>\n",
       "    </tr>\n",
       "    <tr>\n",
       "      <th>1808.0</th>\n",
       "      <td>4.0</td>\n",
       "    </tr>\n",
       "    <tr>\n",
       "      <th>1838.0</th>\n",
       "      <td>22.0</td>\n",
       "    </tr>\n",
       "    <tr>\n",
       "      <th>1847.0</th>\n",
       "      <td>3.0</td>\n",
       "    </tr>\n",
       "    <tr>\n",
       "      <th>...</th>\n",
       "      <td>...</td>\n",
       "    </tr>\n",
       "    <tr>\n",
       "      <th>26245.0</th>\n",
       "      <td>111.0</td>\n",
       "    </tr>\n",
       "    <tr>\n",
       "      <th>26408.0</th>\n",
       "      <td>103.0</td>\n",
       "    </tr>\n",
       "    <tr>\n",
       "      <th>26691.0</th>\n",
       "      <td>117.0</td>\n",
       "    </tr>\n",
       "    <tr>\n",
       "      <th>28024.0</th>\n",
       "      <td>118.0</td>\n",
       "    </tr>\n",
       "    <tr>\n",
       "      <th>28270.0</th>\n",
       "      <td>40.0</td>\n",
       "    </tr>\n",
       "    <tr>\n",
       "      <th>28477.0</th>\n",
       "      <td>83.0</td>\n",
       "    </tr>\n",
       "    <tr>\n",
       "      <th>29254.0</th>\n",
       "      <td>90.0</td>\n",
       "    </tr>\n",
       "    <tr>\n",
       "      <th>29422.0</th>\n",
       "      <td>97.0</td>\n",
       "    </tr>\n",
       "    <tr>\n",
       "      <th>30125.0</th>\n",
       "      <td>92.0</td>\n",
       "    </tr>\n",
       "    <tr>\n",
       "      <th>30538.0</th>\n",
       "      <td>104.0</td>\n",
       "    </tr>\n",
       "    <tr>\n",
       "      <th>34109.0</th>\n",
       "      <td>96.0</td>\n",
       "    </tr>\n",
       "    <tr>\n",
       "      <th>35112.0</th>\n",
       "      <td>142.0</td>\n",
       "    </tr>\n",
       "    <tr>\n",
       "      <th>35876.0</th>\n",
       "      <td>105.0</td>\n",
       "    </tr>\n",
       "    <tr>\n",
       "      <th>36307.0</th>\n",
       "      <td>145.0</td>\n",
       "    </tr>\n",
       "    <tr>\n",
       "      <th>39023.0</th>\n",
       "      <td>160.0</td>\n",
       "    </tr>\n",
       "    <tr>\n",
       "      <th>40756.0</th>\n",
       "      <td>127.0</td>\n",
       "    </tr>\n",
       "    <tr>\n",
       "      <th>42997.0</th>\n",
       "      <td>169.0</td>\n",
       "    </tr>\n",
       "    <tr>\n",
       "      <th>47672.0</th>\n",
       "      <td>104.0</td>\n",
       "    </tr>\n",
       "    <tr>\n",
       "      <th>49126.0</th>\n",
       "      <td>179.0</td>\n",
       "    </tr>\n",
       "    <tr>\n",
       "      <th>53464.0</th>\n",
       "      <td>152.0</td>\n",
       "    </tr>\n",
       "    <tr>\n",
       "      <th>56529.0</th>\n",
       "      <td>163.0</td>\n",
       "    </tr>\n",
       "    <tr>\n",
       "      <th>59634.0</th>\n",
       "      <td>167.0</td>\n",
       "    </tr>\n",
       "    <tr>\n",
       "      <th>60161.0</th>\n",
       "      <td>302.0</td>\n",
       "    </tr>\n",
       "    <tr>\n",
       "      <th>62398.0</th>\n",
       "      <td>246.0</td>\n",
       "    </tr>\n",
       "    <tr>\n",
       "      <th>62652.0</th>\n",
       "      <td>236.0</td>\n",
       "    </tr>\n",
       "    <tr>\n",
       "      <th>62931.0</th>\n",
       "      <td>250.0</td>\n",
       "    </tr>\n",
       "    <tr>\n",
       "      <th>63476.0</th>\n",
       "      <td>267.0</td>\n",
       "    </tr>\n",
       "    <tr>\n",
       "      <th>66676.0</th>\n",
       "      <td>244.0</td>\n",
       "    </tr>\n",
       "    <tr>\n",
       "      <th>74005.0</th>\n",
       "      <td>248.0</td>\n",
       "    </tr>\n",
       "    <tr>\n",
       "      <th>88456.0</th>\n",
       "      <td>360.0</td>\n",
       "    </tr>\n",
       "  </tbody>\n",
       "</table>\n",
       "<p>300 rows × 1 columns</p>\n",
       "</div>"
      ],
      "text/plain": [
       "            cancer\n",
       "population        \n",
       "445.0          1.0\n",
       "559.0          0.0\n",
       "677.0          3.0\n",
       "681.0          4.0\n",
       "746.0          3.0\n",
       "869.0          4.0\n",
       "950.0          1.0\n",
       "976.0          5.0\n",
       "1096.0         5.0\n",
       "1098.0         5.0\n",
       "1114.0         5.0\n",
       "1125.0         7.0\n",
       "1236.0         5.0\n",
       "1285.0         6.0\n",
       "1291.0         3.0\n",
       "1318.0         3.0\n",
       "1323.0         2.0\n",
       "1327.0         8.0\n",
       "1438.0         9.0\n",
       "1479.0         7.0\n",
       "1536.0         4.0\n",
       "1598.0         6.0\n",
       "1635.0         6.0\n",
       "1667.0        11.0\n",
       "1696.0         4.0\n",
       "1792.0         7.0\n",
       "1795.0         7.0\n",
       "1808.0         4.0\n",
       "1838.0        22.0\n",
       "1847.0         3.0\n",
       "...            ...\n",
       "26245.0      111.0\n",
       "26408.0      103.0\n",
       "26691.0      117.0\n",
       "28024.0      118.0\n",
       "28270.0       40.0\n",
       "28477.0       83.0\n",
       "29254.0       90.0\n",
       "29422.0       97.0\n",
       "30125.0       92.0\n",
       "30538.0      104.0\n",
       "34109.0       96.0\n",
       "35112.0      142.0\n",
       "35876.0      105.0\n",
       "36307.0      145.0\n",
       "39023.0      160.0\n",
       "40756.0      127.0\n",
       "42997.0      169.0\n",
       "47672.0      104.0\n",
       "49126.0      179.0\n",
       "53464.0      152.0\n",
       "56529.0      163.0\n",
       "59634.0      167.0\n",
       "60161.0      302.0\n",
       "62398.0      246.0\n",
       "62652.0      236.0\n",
       "62931.0      250.0\n",
       "63476.0      267.0\n",
       "66676.0      244.0\n",
       "74005.0      248.0\n",
       "88456.0      360.0\n",
       "\n",
       "[300 rows x 1 columns]"
      ]
     },
     "execution_count": 26,
     "metadata": {},
     "output_type": "execute_result"
    }
   ],
   "source": [
    "df"
   ]
  },
  {
   "cell_type": "code",
   "execution_count": 41,
   "metadata": {},
   "outputs": [
    {
     "data": {
      "image/png": "[encoded data removed]",
      "text/plain": [
       "<Figure size 432x288 with 1 Axes>"
      ]
     },
     "metadata": {
      "needs_background": "light"
     },
     "output_type": "display_data"
    }
   ],
   "source": [
    "fig, ax = plt.subplots()\n",
    "df.hist('cancer',ax=ax,bins=40)\n",
    "plt.savefig('cancer.png')"
   ]
  },
  {
   "cell_type": "code",
   "execution_count": 43,
   "metadata": {},
   "outputs": [],
   "source": [
    "df.to_csv('cancer_rates.csv')"
   ]
  },
  {
   "cell_type": "code",
   "execution_count": 55,
   "metadata": {},
   "outputs": [],
   "source": [
    "remote_pathname = 'examples/cancer.png'\n",
    "bucket_name = 'capstone-bucket-galvd83'\n",
    "file_name='cancer.png'"
   ]
  },
  {
   "cell_type": "code",
   "execution_count": 48,
   "metadata": {},
   "outputs": [],
   "source": [
    "s3.upload_file(\n",
    "    Bucket='capstone-bucket-galvd83',\n",
    "    Filename='cancer.png',\n",
    "    Key=remote_pathname\n",
    "    )"
   ]
  },
  {
   "cell_type": "code",
   "execution_count": 50,
   "metadata": {},
   "outputs": [
    {
     "data": {
      "text/plain": [
       "{'ResponseMetadata': {'RequestId': 'E13980157FA06F15',\n",
       "  'HostId': 'jDWQsyhjR/lHUq0fE2EF4abyepBOr/etltj/LTAo8TlDpKPN30yaiBm7osP4BRFZd0P4H71pWqQ=',\n",
       "  'HTTPStatusCode': 200,\n",
       "  'HTTPHeaders': {'x-amz-id-2': 'jDWQsyhjR/lHUq0fE2EF4abyepBOr/etltj/LTAo8TlDpKPN30yaiBm7osP4BRFZd0P4H71pWqQ=',\n",
       "   'x-amz-request-id': 'E13980157FA06F15',\n",
       "   'date': 'Wed, 19 Dec 2018 18:47:49 GMT',\n",
       "   'x-amz-bucket-region': 'us-east-1',\n",
       "   'content-type': 'application/xml',\n",
       "   'transfer-encoding': 'chunked',\n",
       "   'server': 'AmazonS3'},\n",
       "  'RetryAttempts': 0},\n",
       " 'IsTruncated': False,\n",
       " 'Marker': '',\n",
       " 'Contents': [{'Key': 'cancer.csv',\n",
       "   'LastModified': datetime.datetime(2018, 12, 19, 18, 31, 11, tzinfo=tzlocal()),\n",
       "   'ETag': '\"9b42c56c596eb08254f2ab4602409f93\"',\n",
       "   'Size': 3686,\n",
       "   'StorageClass': 'STANDARD',\n",
       "   'Owner': {'DisplayName': 'cjherman6',\n",
       "    'ID': 'fb668324eb5c9eed5f1634b6ba1bcda6d303f69c8c57a635e2dd337aa82ffe05'}},\n",
       "  {'Key': 'examples/cancer.png',\n",
       "   'LastModified': datetime.datetime(2018, 12, 19, 18, 46, 28, tzinfo=tzlocal()),\n",
       "   'ETag': '\"05ccf97951c74ffb1504ee6ba9c5d252\"',\n",
       "   'Size': 7287,\n",
       "   'StorageClass': 'STANDARD',\n",
       "   'Owner': {'DisplayName': 'cjherman6',\n",
       "    'ID': 'fb668324eb5c9eed5f1634b6ba1bcda6d303f69c8c57a635e2dd337aa82ffe05'}}],\n",
       " 'Name': 'capstone-bucket-galvd83',\n",
       " 'Prefix': '',\n",
       " 'MaxKeys': 1000,\n",
       " 'EncodingType': 'url'}"
      ]
     },
     "execution_count": 50,
     "metadata": {},
     "output_type": "execute_result"
    }
   ],
   "source": [
    "response = s3.list_objects(\n",
    "    Bucket=bucket_name\n",
    ")\n",
    "\n",
    "response"
   ]
  },
  {
   "cell_type": "code",
   "execution_count": 51,
   "metadata": {},
   "outputs": [
    {
     "data": {
      "text/plain": [
       "['cancer.csv', 'examples/cancer.png']"
      ]
     },
     "execution_count": 51,
     "metadata": {},
     "output_type": "execute_result"
    }
   ],
   "source": [
    "[item['Key'] for item in response['Contents']]"
   ]
  },
  {
   "cell_type": "code",
   "execution_count": 52,
   "metadata": {},
   "outputs": [],
   "source": [
    "response = s3.get_object(Bucket=bucket_name,\n",
    "                         Key=remote_pathname)"
   ]
  },
  {
   "cell_type": "code",
   "execution_count": 53,
   "metadata": {},
   "outputs": [
    {
     "data": {
      "text/plain": [
       "{'ResponseMetadata': {'RequestId': 'E948D42D5781D16D',\n",
       "  'HostId': 'wYc1nq2fgmsnjL48tJEVAWAgAOwLrf4mZovTuH0w8vBW5cOsT7bEwPRaTiYLG8KVoca3jgnPElk=',\n",
       "  'HTTPStatusCode': 200,\n",
       "  'HTTPHeaders': {'x-amz-id-2': 'wYc1nq2fgmsnjL48tJEVAWAgAOwLrf4mZovTuH0w8vBW5cOsT7bEwPRaTiYLG8KVoca3jgnPElk=',\n",
       "   'x-amz-request-id': 'E948D42D5781D16D',\n",
       "   'date': 'Wed, 19 Dec 2018 18:48:31 GMT',\n",
       "   'last-modified': 'Wed, 19 Dec 2018 18:46:28 GMT',\n",
       "   'etag': '\"05ccf97951c74ffb1504ee6ba9c5d252\"',\n",
       "   'accept-ranges': 'bytes',\n",
       "   'content-type': 'binary/octet-stream',\n",
       "   'content-length': '7287',\n",
       "   'server': 'AmazonS3'},\n",
       "  'RetryAttempts': 0},\n",
       " 'AcceptRanges': 'bytes',\n",
       " 'LastModified': datetime.datetime(2018, 12, 19, 18, 46, 28, tzinfo=tzutc()),\n",
       " 'ContentLength': 7287,\n",
       " 'ETag': '\"05ccf97951c74ffb1504ee6ba9c5d252\"',\n",
       " 'ContentType': 'binary/octet-stream',\n",
       " 'Metadata': {},\n",
       " 'Body': <botocore.response.StreamingBody at 0x7f53957cb438>}"
      ]
     },
     "execution_count": 53,
     "metadata": {},
     "output_type": "execute_result"
    }
   ],
   "source": [
    "response"
   ]
  },
  {
   "cell_type": "code",
   "execution_count": 54,
   "metadata": {},
   "outputs": [
    {
     "data": {
      "text/plain": [
       "b'\\x89PNG\\r\\n\\x1a\\n\\x00\\x00\\x00\\rIHDR\\x00\\x00\\x01\\xb0\\x00\\x00\\x01 \\x08\\x06\\x00\\x00\\x00\\xd5(&i\\x00\\x00\\x00\\x04sBIT\\x08\\x08\\x08\\x08|\\x08d\\x88\\x00\\x00\\x00\\tpHYs\\x00\\x00\\x0b\\x12\\x00\\x00\\x0b\\x12\\x01\\xd2\\xdd~\\xfc\\x00\\x00\\x009tEXtSoftware\\x00matplotlib version 3.0.2, http://matplotlib.org/8\\x80;\\xad\\x00\\x00\\x1b\\xd4IDATx\\x9c\\xed\\xdd\\x7fl\\xd4\\xf5\\xe1\\xc7\\xf1\\xd7I#\\x99\\xab\\xb4\\x15m=(PK;-\\xfdA\\x85\\xd2\\xba\\xcch\\xa19\\xe7&k\\x03v\\x80\\xeb\\xe2!u\\xe7\\xdc\\x0f\\x15\\xc1\\xadF\\x13XbF\\xfd:\\x8d\\x06\\xdd\\x1f\\x17\\t\\x9e\\xce\\xd1\\t\\x89\\xed6\\x14\\xc5\\xb2\\xaaa\\xbaZ\\xa5\\xfe bj\\xa5\\x8e\\x96\\xda\\x02\\xe5\\x80\"\\xa5\\xbf\\xde\\xdf?\\x88\\x17~\\xb4\\xda\\x9dm?\\x9f\\xb7>\\x1f\\x89I\\xef\\xf3\\xf3uo<^|\\xdew\\xfd\\x9c\\xc7\\x18c\\x04\\x00\\x80e\\xces:\\x00\\x00\\x00\\xd1\\xa0\\xc0\\x00\\x00V\\xa2\\xc0\\x00\\x00V\\xa2\\xc0\\x00\\x00V\\xa2\\xc0\\x00\\x00V\\xa2\\xc0\\x00\\x00V\\xa2\\xc0\\x00\\x00V\\xa2\\xc0\\x00\\x00V\\xa2\\xc0\\x00\\x00V\\xa2\\xc0\\x00\\x00V\\xa2\\xc0\\x00\\x00V\\xa2\\xc0\\x00\\x00V\\xa2\\xc0\\x00\\x00V\\xa2\\xc0\\x00\\x00V\\xa2\\xc0\\x00\\x00V\\xa2\\xc0\\x00\\x00V\\xa2\\xc0\\x00\\x00V\\xa2\\xc0\\x00\\x00V\\xa2\\xc0\\x00\\x00V\\xa2\\xc0\\x00\\x00V\\xa2\\xc0\\x00\\xcb\\xf5\\xf7\\xf7;\\x1d\\x01p\\x04\\x05\\x06\\x8c\\xd0\\xbe}\\xfb\\xb4x\\xf1b]r\\xc9%\\x9a<y\\xb2~\\xf3\\x9b\\xdf\\xa8\\xb9\\xb9Y\\x0b\\x16,\\xd0\\xe4\\xc9\\x93u\\xf1\\xc5\\x17\\xab\\xac\\xacL\\xe1p8\\xb2OJJ\\x8a\\xfe\\xf4\\xa7?)\\'\\'GqqqZ\\xbat\\xa9zzz\"\\xebkjj\\x94\\x9b\\x9b\\xabI\\x93&i\\xe6\\xcc\\x99\\xda\\xb6m\\x9b$\\xe9\\xc8\\x91#*//\\x97\\xd7\\xeb\\xd5\\xd4\\xa9Su\\xff\\xfd\\xf7k``@\\x92\\xf4\\xd4SO\\xe9\\x07?\\xf8\\x81V\\xae\\\\\\xa9\\x8b.\\xbaHk\\xd7\\xae\\x1d\\xd7q\\x00\\xdc\\x82\\x02\\x03F```@\\x0b\\x17.\\xd4\\x8c\\x193\\xd4\\xd2\\xd2\\xa2\\xb6\\xb66-[\\xb6L\\xc6\\x18\\xdd{\\xef\\xbd\\xda\\xbf\\x7f\\xbf>\\xfc\\xf0C\\xed\\xdb\\xb7\\xef\\x9cBy\\xee\\xb9\\xe7\\xb4m\\xdb6\\xed\\xdd\\xbbW\\xef\\xbd\\xf7\\x9e\\x9ez\\xea)IR}}\\xbdn\\xbe\\xf9f=\\xf4\\xd0C\\n\\x87\\xc3z\\xed\\xb5\\xd7\\x94\\x92\\x92\"I\\xf2\\xfb\\xfd\\x8a\\x89\\x89\\xd1\\xc7\\x1f\\x7f\\xac]\\xbbv\\xe9\\xe5\\x97_\\xd6\\x93O>\\x199\\xe6\\x7f\\xfe\\xf3\\x1f\\xa5\\xa6\\xa6\\xaa\\xb3\\xb3S\\xf7\\xddw\\xdf8\\x8d\\x02\\xe02\\x06\\xc0W\\xfa\\xf7\\xbf\\xffm.\\xbe\\xf8b\\xd3\\xd7\\xd7\\xf7\\xa5\\xdb=\\xff\\xfc\\xf3&777\\xf2x\\xc6\\x8c\\x19\\xe6\\x99g\\x9e\\x89<\\xbe\\xe7\\x9e{\\xccm\\xb7\\xddf\\x8c1&\\x10\\x08\\x98\\xbb\\xee\\xba\\xeb\\x9cc|\\xf6\\xd9g\\xe6\\xfc\\xf3\\xcf7\\x9f\\x7f\\xfeyd\\xd9_\\xff\\xfaWSXXh\\x8c1f\\xe3\\xc6\\x8df\\xda\\xb4i_\\xeb\\xf9\\x00\\xdf\\x041N\\x17(`\\x83}\\xfb\\xf6i\\xc6\\x8c\\x19\\x8a\\x899\\xf3%\\xd3\\xd9\\xd9\\xa9;\\xee\\xb8C\\xaf\\xbf\\xfe\\xba\\x8e\\x1d;\\xa6\\xc1\\xc1A%$$\\x9c\\xb1\\xcd\\xa5\\x97^\\x1a\\xf9\\xf9\\x82\\x0b.\\xd0\\xfe\\xfd\\xfb#\\xc7\\xfc\\xf1\\x8f\\x7f|\\xce\\xb9>\\xfd\\xf4S\\xf5\\xf5\\xf5\\xc9\\xeb\\xf5F\\x96\\r\\x0e\\x0ej\\xda\\xb4i\\x91\\xc7\\xa7\\xff\\x0c|[1\\x85\\x08\\x8c\\xc0\\xb4i\\xd3\\xf4\\xdf\\xff\\xfe\\xf7\\x9c\\x0fL\\xdc{\\xef\\xbd\\xf2x<z\\xef\\xbd\\xf7t\\xf4\\xe8Q\\xfd\\xe5/\\x7f\\x911f\\xc4\\xc7lnn\\x1er\\xf9\\xc4\\x89\\x13u\\xf0\\xe0A\\x85\\xc3a\\x85\\xc3a\\x1d=zT\\xbbw\\xef\\x8el\\xe3\\xf1x\\xbe\\xde\\x13\\x02\\xbe\\x01(0`\\x04\\xf2\\xf3\\xf3\\xe5\\xf5zUQQ\\xa1\\xe3\\xc7\\x8f\\xab\\xa7\\xa7G;w\\xee\\xd4\\xb1c\\xc7\\x14\\x1b\\x1b\\xab\\xf8\\xf8x\\xb5\\xb5\\xb5\\xe9\\xa1\\x87\\x1e\\x1a\\xf11\\xcb\\xcb\\xcb\\xb5q\\xe3F\\xd5\\xd6\\xd6jppPmmm\\xda\\xb3g\\x8f\\xbc^\\xaf\\xae\\xbb\\xee:\\xadZ\\xb5JG\\x8f\\x1e\\xd5\\xe0\\xe0\\xa0\\x9a\\x9b\\x9b\\xf5\\xea\\xab\\xaf\\x8e\\xe13\\x04\\xecC\\x81\\x01#0a\\xc2\\x04\\xfd\\xe3\\x1f\\xff\\xd0\\xc7\\x1f\\x7f\\xac\\xe9\\xd3\\xa7+99Y\\x7f\\xfb\\xdb\\xdf\\xb4f\\xcd\\x1a\\xbd\\xf3\\xce;\\x8a\\x8b\\x8b\\xd3\\r7\\xdc\\xa0\\xc5\\x8b\\x17\\x8f\\xf8\\x98\\xf9\\xf9\\xf9\\xda\\xb8q\\xa3V\\xae\\\\\\xa9\\xb8\\xb88]{\\xed\\xb5\\xfa\\xf4\\xd3O%IO?\\xfd\\xb4z{{5k\\xd6,%$$\\xa8\\xb4\\xb4T\\xed\\xed\\xedc\\xf5\\xf4\\x00+y\\xccH\\xe7;\\x00\\x00p\\x11\\xae\\xc0\\x00\\x00V\\xa2\\xc0\\x00\\x00V\\xa2\\xc0\\x00\\x00V\\xa2\\xc0\\x00\\x00V\\xa2\\xc0\\x00\\x00V\\xfa\\xc6\\xde\\x89\\xe3\\xe2\\x8b/\\x8e\\xdcW\\xee\\x7fu\\xfc\\xf8q}\\xf7\\xbb\\xdf\\x1d\\xdd@c\\xc0\\x96\\x9c\\x92=Y\\xc99\\xfal\\xc9J\\xceSZZZt\\xf0\\xe0\\xc11;\\xfeh\\xfa\\xc6\\x16XJJ\\x8a\\x1a\\x1a\\x1a\\xa2\\xda\\xb7\\xae\\xaeN\\x85\\x85\\x85\\xa3\\x1bh\\x0c\\xd8\\x92S\\xb2\\'+9G\\x9f-Y\\xc9yJ^^\\xde\\x98\\x1d{\\xb41\\x85\\x08\\x00\\xb0\\x12\\x05\\x06\\x00\\xb0\\x12\\x05\\x06\\x00\\xb0\\x12\\x05\\x06\\x00\\xb0\\x12\\x05\\x06\\x00\\xb0\\x12\\x05\\x06\\x00\\xb0\\x12\\x05\\x06\\x00\\xb0\\x12\\x05\\x06\\x00\\xb0\\xd27\\xf6\\x17\\x99\\xc7RJ\\xc5\\xd6a\\xd7\\xb5T\\xde0\\x8eI\\x00\\xe0\\xdb\\x8b+0\\x00\\x80\\x95(0\\x00\\x80\\x95(0\\x00\\x80\\x95\\\\U`\\x1f}\\xf4\\x91rss#\\xffM\\x9a4I\\x8f>\\xfa\\xa8\\xba\\xba\\xba\\xe4\\xf3\\xf9\\x94\\x9e\\x9e.\\x9f\\xcf\\xa7\\xc3\\x87\\x0f;\\x1d\\x15\\x00\\xe00W\\x15\\xd8\\xe5\\x97_\\xae\\xc6\\xc6F566\\xea\\xed\\xb7\\xdf\\xd6\\x05\\x17\\\\\\xa0E\\x8b\\x16\\xa9\\xb2\\xb2REEEjjjRQQ\\x91*++\\x9d\\x8e\\n\\x00p\\x98\\xab\\n\\xect\\xb5\\xb5\\xb5\\x9a9s\\xa6f\\xcc\\x98\\xa1\\x9a\\x9a\\x1a\\xf9\\xfd~I\\x92\\xdf\\xefWuu\\xb5\\xc3\\xe9\\x00\\x00Nsm\\x81UUU\\xe9\\xa6\\x9bn\\x92$utt\\xc8\\xeb\\xf5J\\x92\\xbc^\\xaf:;;\\x9d\\x8c\\x06\\x00p\\x01\\x8f1\\xc68\\x1d\\xe2l\\xbd\\xbd\\xbd\\x9a2e\\x8av\\xef\\xde\\xad\\xa4\\xa4$\\xc5\\xc7\\xc7+\\x1c\\x0eG\\xd6\\'$$\\x0c\\xf9>X0\\x18T0\\x18\\x94$\\xb5\\xb6\\xb6\\xaa\\xaa\\xaa*\\xaa\\xf3www+66v\\xd8\\xf5\\xef\\xb7\\x1d\\x19v]\\xf6\\xd4\\xb8\\xa8\\xce\\x19\\x8d\\xaf\\xca\\xe9&\\xb6d%\\xe7\\xe8\\xb3%+9OY\\xbdzu\\xd4_\\x06<\\xde\\\\\\xf9\\x8b\\xcc/\\xbe\\xf8\\xa2\\xe6\\xcc\\x99\\xa3\\xa4\\xa4$IRRR\\x92\\xda\\xdb\\xdb\\xe5\\xf5z\\xd5\\xde\\xde\\xae\\xc4\\xc4\\xc4!\\xf7\\x0b\\x04\\x02\\n\\x04\\x02\\x92N}\\xabh\\xb4\\xdfZ\\xfaU\\xdfx\\xba\\xfc\\xcb~\\x91\\xb9,\\xbasF\\xc3\\x96o\\x90\\x95\\xec\\xc9J\\xce\\xd1gKVr\\xda\\xc7\\x95S\\x88\\x9b6m\\x8aL\\x1fJRqq\\xb1B\\xa1\\x90$)\\x14\\n\\xa9\\xa4\\xa4\\xc4\\xa9h\\x00\\x00\\x97p]\\x81}\\xfe\\xf9\\xe7\\xda\\xbe}\\xbb\\x16/^\\x1cYVQQ\\xa1\\xed\\xdb\\xb7+==]\\xdb\\xb7oWEE\\x85\\x83\\t\\x01\\x00n\\xe0\\xba)\\xc4\\x0b.\\xb8@\\x87\\x0e\\x1d:c\\xd9\\xe4\\xc9\\x93U[[\\xebP\"\\x00\\x80\\x1b\\xb9\\xee\\n\\x0c\\x00\\x80\\x91\\xa0\\xc0\\x00\\x00V\\xa2\\xc0\\x00\\x00V\\xa2\\xc0\\x00\\x00V\\xa2\\xc0\\x00\\x00V\\xa2\\xc0\\x00\\x00V\\xa2\\xc0\\x00\\x00V\\xa2\\xc0\\x00\\x00V\\xa2\\xc0\\x00\\x00V\\xa2\\xc0\\x00\\x00V\\xa2\\xc0\\x00\\x00V\\xa2\\xc0\\x00\\x00V\\xa2\\xc0\\x00\\x00V\\xa2\\xc0\\x00\\x00V\\xa2\\xc0\\x00\\x00V\\xa2\\xc0\\x00\\x00V\\xa2\\xc0\\x00\\x00V\\xa2\\xc0\\x00\\x00V\\xa2\\xc0\\x00\\x00V\\xa2\\xc0\\x00\\x00Vr]\\x81\\x85\\xc3a\\x95\\x96\\x96\\xea\\x8a+\\xaePFF\\x86\\xdex\\xe3\\ruuu\\xc9\\xe7\\xf3)==]>\\x9fO\\x87\\x0f\\x1fv:&\\x00\\xc0a\\xae+\\xb0;\\xef\\xbcS\\xd7_\\x7f\\xbd\\xf6\\xec\\xd9\\xa3w\\xdf}W\\x19\\x19\\x19\\xaa\\xac\\xacTQQ\\x91\\x9a\\x9a\\x9aTTT\\xa4\\xca\\xcaJ\\xa7c\\x02\\x00\\x1c\\xe6\\xaa\\x02;z\\xf4\\xa8^{\\xed5\\x95\\x97\\x97K\\x92\\xce?\\xff|\\xc5\\xc7\\xc7\\xab\\xa6\\xa6F~\\xbf_\\x92\\xe4\\xf7\\xfbU]]\\xeddL\\x00\\x80\\x0b\\xb8\\xaa\\xc0>\\xf9\\xe4\\x13]r\\xc9%\\xba\\xe5\\x96[t\\xe5\\x95W\\xea\\xd6[o\\xd5\\xf1\\xe3\\xc7\\xd5\\xd1\\xd1!\\xaf\\xd7+I\\xf2z\\xbd\\xea\\xec\\xect8)\\x00\\xc0i\\x1ec\\x8cq:\\xc4\\x17\\x1a\\x1a\\x1at\\xd5UWi\\xe7\\xce\\x9d*((\\xd0\\x9dw\\xde\\xa9I\\x93&i\\xfd\\xfa\\xf5\\n\\x87\\xc3\\x91\\xed\\x12\\x12\\x12\\x86|\\x1f,\\x18\\x0c*\\x18\\x0cJ\\x92Z[[UUU\\x15U\\x8e\\xee\\xeen\\xc5\\xc6\\xc6\\x0e\\xbb\\xfe\\xfd\\xb6#\\xc3\\xae\\xcb\\x9e\\x1a\\x17\\xd59\\xa3\\xf1U9\\xdd\\xc4\\x96\\xac\\xe4\\x1c}\\xb6d%\\xe7)\\xabW\\xafVCC\\xc3\\x98\\x1d\\x7f4\\xb9\\xaa\\xc0>\\xfb\\xec3]u\\xd5Ujii\\x91$\\xbd\\xfe\\xfa\\xeb\\xaa\\xac\\xac\\xd4\\xc7\\x1f\\x7f\\xac\\xba\\xba:y\\xbd^\\xb5\\xb7\\xb7\\xab\\xb0\\xb0P\\x1f}\\xf4\\xd1\\x97\\x1e+///\\xea?\\x84\\xba\\xba:\\x15\\x16\\x16\\x0e\\xbb>\\xa5b\\xeb\\xb0\\xebZ*o\\x88\\xea\\x9c\\xd1\\xf8\\xaa\\x9cnbKVr\\x8e>[\\xb2\\x92\\xf3\\x94\\xaf\\xf3w\\xe7xs\\xd5\\x14\\xe2\\xa5\\x97^\\xaai\\xd3\\xa6E\\xca\\xa9\\xb6\\xb6V\\xb3f\\xcdRqq\\xb1B\\xa1\\x90$)\\x14\\n\\xa9\\xa4\\xa4\\xc4\\xc9\\x98\\x00\\x00\\x17\\x88q:\\xc0\\xd9\\xd6\\xaf_\\xaf\\xb2\\xb22\\xf5\\xf6\\xf6*55U\\x1b7n\\xd4\\xe0\\xe0\\xa0\\x96,Y\\xa2\\r\\x1b6h\\xfa\\xf4\\xe9\\xda\\xbcy\\xb3\\xd31\\x01\\x00\\x0es]\\x81\\xe5\\xe6\\xe6\\x0ey\\xf9Z[[\\xeb@\\x1a\\x00\\x80[\\xb9j\\n\\x11\\x00\\x80\\x91\\xa2\\xc0\\x00\\x00V\\xa2\\xc0\\x00\\x00V\\xa2\\xc0\\x00\\x00V\\xa2\\xc0\\x00\\x00V\\xa2\\xc0\\x00\\x00V\\xa2\\xc0\\x00\\x00V\\xa2\\xc0\\x00\\x00V\\xa2\\xc0\\x00\\x00V\\xa2\\xc0\\x00\\x00V\\xa2\\xc0\\x00\\x00V\\xa2\\xc0\\x00\\x00V\\xa2\\xc0\\x00\\x00V\\xa2\\xc0\\x00\\x00V\\xa2\\xc0\\x00\\x00V\\xa2\\xc0\\x00\\x00V\\xa2\\xc0\\x00\\x00Vr\\xdd72\\xbb\\xc1\\xfbmG\\xb4\\xbcb\\xab\\xd31\\x00\\x00_\\x82+0\\x00\\x80\\x95\\\\w\\x05\\x96\\x92\\x92\\xa2\\x0b/\\xbcP\\x13&LPLL\\x8c\\x1a\\x1a\\x1a\\xd4\\xd5\\xd5\\xa5\\xa5K\\x97\\xaa\\xa5\\xa5E)))z\\xee\\xb9\\xe7\\x94\\x90\\x90\\xe0tT\\x00\\x80\\x83\\\\y\\x05\\xf6\\xaf\\x7f\\xfdK\\x8d\\x8d\\x8djhh\\x90$UVV\\xaa\\xa8\\xa8HMMM***Ree\\xa5\\xc3\\t\\x01\\x00Nse\\x81\\x9d\\xad\\xa6\\xa6F~\\xbf_\\x92\\xe4\\xf7\\xfbU]]\\xedp\"\\x00\\x80\\xd3\\\\W`\\x1e\\x8fG\\xd7]w\\x9d\\xe6\\xce\\x9d\\xab`0(I\\xea\\xe8\\xe8\\x90\\xd7\\xeb\\x95$y\\xbd^uvv:\\x19\\x11\\x00\\xe0\\x02\\x1ec\\x8cq:\\xc4\\xe9\\xf6\\xef\\xdf\\xaf)S\\xa6\\xa8\\xb3\\xb3S>\\x9fO\\xeb\\xd7\\xafWqq\\xb1\\xc2\\xe1pd\\x9b\\x84\\x84\\x04\\x1d>|\\xf8\\x9c}\\x83\\xc1`\\xa4\\xf4Z[[UUU\\x15U\\x86\\xce\\xae#\\xea8\\x11]\\xfe\\xec\\xa9q\\xd1\\xed\\x18\\x85\\xee\\xeen\\xc5\\xc6\\xc6\\x8e\\xdb\\xf9\\xbe\\x0e[\\xb2\\x92s\\xf4\\xd9\\x92\\x95\\x9c\\xa7\\xac^\\xbd:\\xf2\\xf6\\x8d\\xdb\\xb9\\xeeC\\x1cS\\xa6L\\x91$%&&j\\xd1\\xa2E\\xaa\\xaf\\xafWRR\\x92\\xda\\xdb\\xdb\\xe5\\xf5z\\xd5\\xde\\xde\\xae\\xc4\\xc4\\xc4!\\xf7\\r\\x04\\x02\\n\\x04\\x02\\x92\\xa4\\xbc\\xbc<\\x15\\x16\\x16F\\x95a\\xfd\\xb35z\\xf8\\xfd\\xe8\\x86\\xa6\\xa5,\\xbasF\\xa3\\xae\\xae.\\xea\\xe78\\xdel\\xc9J\\xce\\xd1gKVr\\xda\\xc7US\\x88\\xc7\\x8f\\x1f\\xd7\\xb1c\\xc7\"?\\xbf\\xfc\\xf2\\xcb\\xca\\xca\\xcaRqq\\xb1B\\xa1\\x90$)\\x14\\n\\xa9\\xa4\\xa4\\xc4\\xc9\\x98\\x00\\x00\\x17p\\xd5\\x15XGG\\x87\\x16-Z$I\\xea\\xef\\xef\\xd7\\xcf~\\xf63]\\x7f\\xfd\\xf5\\x9a7o\\x9e\\x96,Y\\xa2\\r\\x1b6h\\xfa\\xf4\\xe9\\xda\\xbcy\\xb3\\xc3I\\x01\\x00NsU\\x81\\xa5\\xa6\\xa6\\xea\\xddw\\xdf=g\\xf9\\xe4\\xc9\\x93U[[\\xeb@\"\\x00\\x80[\\xb9j\\n\\x11\\x00\\x80\\x91\\xa2\\xc0\\x00\\x00V\\xa2\\xc0\\x00\\x00V\\xa2\\xc0\\x00\\x00V\\xa2\\xc0\\x00\\x00V\\xa2\\xc0\\x00\\x00V\\xa2\\xc0\\x00\\x00V\\xa2\\xc0\\x00\\x00V\\xa2\\xc0\\x00\\x00V\\xa2\\xc0\\x00\\x00V\\xa2\\xc0\\x00\\x00V\\xa2\\xc0\\x00\\x00V\\xa2\\xc0\\x00\\x00V\\xa2\\xc0\\x00\\x00V\\xa2\\xc0\\x00\\x00V\\xa2\\xc0\\x00\\x00V\\xa2\\xc0\\x00\\x00V\\xa2\\xc0\\x00\\x00V\\xa2\\xc0\\x00\\x00V\\xa2\\xc0\\x00\\x00Vre\\x81\\r\\x0c\\x0c\\xe8\\xca+\\xaf\\xd4\\xc2\\x85\\x0b%I{\\xf7\\xeeUAA\\x81\\xd2\\xd3\\xd3\\xb5t\\xe9R\\xf5\\xf6\\xf6:\\x9c\\x10\\x00\\xe04W\\x16\\xd8c\\x8f=\\xa6\\x8c\\x8c\\x8c\\xc8\\xe3\\xdf\\xff\\xfe\\xf7Z\\xb9r\\xa5\\x9a\\x9a\\x9a\\x94\\x90\\x90\\xa0\\r\\x1b68\\x98\\x0e\\x00\\xe0\\x06\\xae+\\xb0\\xd6\\xd6Vm\\xdd\\xbaU\\xb7\\xdez\\xab$\\xc9\\x18\\xa3\\x1d;v\\xa8\\xb4\\xb4T\\x92\\xe4\\xf7\\xfbU]]\\xeddD\\x00\\x80\\x0b\\xb8\\xae\\xc0\\xee\\xba\\xeb.\\xfd\\xdf\\xff\\xfd\\x9f\\xce;\\xefT\\xb4C\\x87\\x0e)>>^111\\x92\\xa4\\xe4\\xe4d\\xb5\\xb5\\xb59\\x19\\x11\\x00\\xe0\\x021N\\x078\\xdd?\\xff\\xf9O%&&j\\xee\\xdc\\xb9\\xaa\\xab\\xab\\x93t\\xea\\n\\xecl\\x1e\\x8fg\\xc8\\xfd\\x83\\xc1\\xa0\\x82\\xc1\\xa0\\xa4SWr_\\x1c\\xe3\\x7f\\x95\\xf4\\x1diUv\\x7fT\\xfb\\xae\\x7f\\xb6\\xe6K\\xd7gO\\x8d\\x8b\\xea\\xb8C\\xe9\\xee\\xee\\x8e\\xfa9\\x8e7[\\xb2\\x92s\\xf4\\xd9\\x92\\x95\\x9c\\xf6qU\\x81\\xed\\xdc\\xb9S\\x7f\\xff\\xfb\\xdf\\xf5\\xc2\\x0b/\\xa8\\xa7\\xa7GG\\x8f\\x1e\\xd5]w\\xdd\\xa5p8\\xac\\xfe\\xfe~\\xc5\\xc4\\xc4\\xa8\\xb5\\xb5US\\xa6L\\x19r\\xff@ \\xa0@  I\\xca\\xcb\\xcbSaaaT9\\xd6?[\\xa3\\x87\\xdf\\x1f\\x9b\\xa1i)+\\x1c\\xb5c\\xd5\\xd5\\xd5E\\xfd\\x1c\\xc7\\x9b-Y\\xc99\\xfal\\xc9JN\\xfb\\xb8j\\nq\\xdd\\xbaujmmUKK\\x8b\\xaa\\xaa\\xaa\\xb4`\\xc1\\x02=\\xfb\\xec\\xb3\\x9a?\\x7f\\xbe\\xb6l\\xd9\"I\\n\\x85B*))q8)\\x00\\xc0i\\xae*\\xb0\\xe1<\\xf8\\xe0\\x83z\\xe4\\x91G\\x94\\x96\\x96\\xa6C\\x87\\x0e\\xa9\\xbc\\xbc\\xdc\\xe9H\\x00\\x00\\x87\\xb9j\\n\\xf1t\\x85\\x85\\x85\\x91\\xcb\\xe4\\xd4\\xd4T\\xd5\\xd7\\xd7;\\x1b\\x08\\x00\\xe0*V\\\\\\x81\\x01\\x00p6\\n\\x0c\\x00`%\\n\\x0c\\x00`%\\n\\x0c\\x00`%\\n\\x0c\\x00`%\\n\\x0c\\x00`%\\n\\x0c\\x00`%\\n\\x0c\\x00`%\\n\\x0c\\x00`%\\n\\x0c\\x00`%\\n\\x0c\\x00`%\\n\\x0c\\x00`%\\n\\x0c\\x00`%\\n\\x0c\\x00`%\\n\\x0c\\x00`%\\n\\x0c\\x00`%\\n\\x0c\\x00`%\\n\\x0c\\x00`%\\n\\x0c\\x00`%W\\x15XOO\\x8f\\xf2\\xf3\\xf35{\\xf6leffj\\xcd\\x9a5\\x92\\xa4\\xbd{\\xf7\\xaa\\xa0\\xa0@\\xe9\\xe9\\xe9Z\\xbat\\xa9z{{\\x1dN\\n\\x00pZ\\x8c\\xd3\\x01N7q\\xe2D\\xed\\xd8\\xb1C\\xb1\\xb1\\xb1\\xea\\xeb\\xeb\\xd3\\xd5W_\\xad\\x1f\\xfd\\xe8Gz\\xe4\\x91G\\xb4r\\xe5J-[\\xb6L\\xbf\\xfc\\xe5/\\xb5a\\xc3\\x06\\xdd~\\xfb\\xedN\\xc7\\x8dJJ\\xc5\\xd6/]\\xdfRy\\xc38%\\x01\\x00\\xbb\\xb9\\xea\\n\\xcc\\xe3\\xf1(66V\\x92\\xd4\\xd7\\xd7\\xa7\\xbe\\xbe>y<\\x1e\\xed\\xd8\\xb1C\\xa5\\xa5\\xa5\\x92$\\xbf\\xdf\\xaf\\xea\\xeaj\\'c\\x02\\x00\\\\\\xc0U\\x05&I\\x03\\x03\\x03\\xca\\xcd\\xcdUbb\\xa2|>\\x9ff\\xce\\x9c\\xa9\\xf8\\xf8x\\xc5\\xc4\\x9c\\xbaXLNNV[[\\x9b\\xc3)\\x01\\x00Ns\\xd5\\x14\\xa2$M\\x980A\\x8d\\x8d\\x8d\\n\\x87\\xc3Z\\xb4h\\x91>\\xfc\\xf0\\xc3s\\xb6\\xf1x<C\\xee\\x1b\\x0c\\x06\\x15\\x0c\\x06%I\\xad\\xad\\xad\\xaa\\xab\\xab\\x8b*C\\xd2w\\xa4U\\xd9\\xfdQ\\xed\\xfbu\\xfd/\\x99\\xbb\\xbb\\xbb\\xa3~\\x8e\\xe3\\xcd\\x96\\xac\\xe4\\x1c}\\xb6d%\\xa7}\\\\W`_\\x88\\x8f\\x8fWaa\\xa1\\xde|\\xf3M\\x85\\xc3a\\xf5\\xf7\\xf7+&&F\\xad\\xad\\xad\\x9a2e\\xca\\x90\\xfb\\x04\\x02\\x01\\x05\\x02\\x01IR^^\\x9e\\n\\x0b\\x0b\\xa3:\\xf7\\xfagk\\xf4\\xf0\\xfb\\xce\\x0cMKY\\xe1\\x88\\xb7\\xad\\xab\\xab\\x8b\\xfa9\\x8e7[\\xb2\\x92s\\xf4\\xd9\\x92\\x95\\x9c\\xf6q\\xd5\\x14\\xe2\\x81\\x03\\x07\\x14\\x0e\\x87%I\\'N\\x9c\\xd0+\\xaf\\xbc\\xa2\\x8c\\x8c\\x0c\\xcd\\x9f?_[\\xb6l\\x91$\\x85B!\\x95\\x94\\x948\\x19\\x13\\x00\\xe0\\x02\\xae\\xba\\x02koo\\x97\\xdf\\xef\\xd7\\xc0\\xc0\\x80\\x06\\x07\\x07\\xb5d\\xc9\\x12-\\\\\\xb8P\\xb3f\\xcd\\xd2\\xb2e\\xcbt\\xff\\xfd\\xf7\\xeb\\xca+\\xafTyy\\xb9\\xd3Q\\x01\\x00\\x0esU\\x81\\xe5\\xe4\\xe4h\\xd7\\xae]\\xe7,OMMU}}\\xbd\\x03\\x89\\x00\\x00n\\xe5\\xaa)D\\x00\\x00F\\x8a\\x02\\x03\\x00X\\x89\\x02\\x03\\x00X\\x89\\x02\\x03\\x00X\\x89\\x02\\x03\\x00X\\x89\\x02\\x03\\x00X\\x89\\x02\\x03\\x00X\\x89\\x02\\x03\\x00X\\x89\\x02\\x03\\x00X\\x89\\x02\\x03\\x00X\\x89\\x02\\x03\\x00X\\x89\\x02\\x03\\x00X\\x89\\x02\\x03\\x00X\\x89\\x02\\x03\\x00X\\x89\\x02\\x03\\x00X\\x89\\x02\\x03\\x00X\\x89\\x02\\x03\\x00X\\x89\\x02\\x03\\x00X\\x89\\x02\\x03\\x00X\\xc9U\\x05\\xb6o\\xdf>\\xcd\\x9f?_\\x19\\x19\\x19\\xca\\xcc\\xcc\\xd4c\\x8f=&I\\xea\\xea\\xea\\x92\\xcf\\xe7Szz\\xba|>\\x9f\\x0e\\x1f>\\xecpR\\x00\\x80\\xd3b\\x9c\\x0ep\\xba\\x98\\x98\\x18=\\xfc\\xf0\\xc3\\x9a3g\\x8e\\x8e\\x1d;\\xa6\\xb9s\\xe7\\xca\\xe7\\xf3\\xe9\\xa9\\xa7\\x9eRQQ\\x91***TYY\\xa9\\xca\\xcaJ=\\xf8\\xe0\\x83N\\xc7\\x1d\\x13)\\x15[\\x87]\\xd7Ry\\xc38&\\x01\\x00ws\\xd5\\x15\\x98\\xd7\\xeb\\xd5\\x9c9s$I\\x17^x\\xa1222\\xd4\\xd6\\xd6\\xa6\\x9a\\x9a\\x1a\\xf9\\xfd~I\\x92\\xdf\\xefWuu\\xb5\\x931\\x01\\x00.\\xe0\\xaa\\x02;]KK\\x8bv\\xed\\xda\\xa5\\x82\\x82\\x02utt\\xc8\\xeb\\xf5J:Ur\\x9d\\x9d\\x9d\\x0e\\xa7\\x03\\x008\\xcdc\\x8c1N\\x878[ww\\xb7\\xae\\xbd\\xf6Z\\xddw\\xdf}Z\\xbcx\\xb1\\xe2\\xe3\\xe3\\x15\\x0e\\x87#\\xeb\\x13\\x12\\x12\\x86|\\x1f,\\x18\\x0c*\\x18\\x0cJ\\x92Z[[UUU\\x15\\xd5\\xf9;\\xbb\\x8e\\xa8\\xe3Dt\\xd9\\xc7R\\xf6\\xd4\\xb83\\x1ewww+66\\xd6\\xa14\\xff\\x1b[\\xb2\\x92s\\xf4\\xd9\\x92\\x95\\x9c\\xa7\\xac^\\xbdZ\\r\\r\\rcv\\xfc\\xd1\\xe4\\xaa\\xf7\\xc0$\\xa9\\xaf\\xafO7\\xdex\\xa3\\xca\\xca\\xca\\xb4x\\xf1bIRRR\\x92\\xda\\xdb\\xdb\\xe5\\xf5z\\xd5\\xde\\xde\\xae\\xc4\\xc4\\xc4!\\xf7\\r\\x04\\x02\\n\\x04\\x02\\x92\\xa4\\xbc\\xbc<\\x15\\x16\\x16F\\x95a\\xfd\\xb35z\\xf8}\\xd7\\r\\x8dZ\\xca\\n\\xcfx\\\\WW\\x17\\xf5s\\x1co\\xb6d%\\xe7\\xe8\\xb3%+9\\xed\\xe3\\xaa)Dc\\x8c\\xca\\xcb\\xcb\\x95\\x91\\x91\\xa1\\xbb\\xef\\xbe;\\xb2\\xbc\\xb8\\xb8X\\xa1PH\\x92\\x14\\n\\x85TRR\\xe2TD\\x00\\x80K\\xb8\\xea2c\\xe7\\xce\\x9dz\\xe6\\x99g\\x94\\x9d\\x9d\\xad\\xdc\\xdc\\\\I\\xd2\\x1f\\xff\\xf8GUTTh\\xc9\\x92%\\xda\\xb0a\\x83\\xa6O\\x9f\\xae\\xcd\\x9b7;\\x9c\\x14\\x00\\xe04W\\x15\\xd8\\xd5W_\\xad\\xe1\\xde\\x92\\xab\\xad\\xad\\x1d\\xe74\\x00\\x007s\\xd5\\x14\"\\x00\\x00#E\\x81\\x01\\x00\\xacD\\x81\\x01\\x00\\xacD\\x81\\x01\\x00\\xac\\xe4\\xaa\\x0fq\\xe0\\xcb\\x9d}\\x9f\\xc4U\\xd9\\xfdZ~\\xda2\\xee\\x95\\x08\\xe0\\xdb\\x84+0\\x00\\x80\\x95(0\\x00\\x80\\x95(0\\x00\\x80\\x95(0\\x00\\x80\\x95(0\\x00\\x80\\x95(0\\x00\\x80\\x95(0\\x00\\x80\\x95(0\\x00\\x80\\x95(0\\x00\\x80\\x95(0\\x00\\x80\\x95(0\\x00\\x80\\x95(0\\x00\\x80\\x95(0\\x00\\x80\\x95\\xb8\\x1b\\xfd\\xb7\\xc4\\xd9w\\xb2?\\x1bw\\xb2\\x07`\\x1b\\xae\\xc0\\x00\\x00Vr]\\x81\\xadX\\xb1B\\x89\\x89\\x89\\xca\\xca\\xca\\x8a,\\xeb\\xea\\xea\\x92\\xcf\\xe7Szz\\xba|>\\x9f\\x0e\\x1f>\\xec`B\\x00\\x80\\x1b\\xb8\\xae\\xc0\\x96/_\\xaem\\xdb\\xb6\\x9d\\xb1\\xac\\xb2\\xb2REEEjjjRQQ\\x91*++\\x1dJ\\x07\\x00p\\x0b\\xd7\\x15\\xd85\\xd7\\\\\\xa3\\x8b.\\xba\\xe8\\x8ce555\\xf2\\xfb\\xfd\\x92$\\xbf\\xdf\\xaf\\xea\\xeaj\\'\\xa2\\x01\\x00\\\\\\xc4u\\x056\\x94\\x8e\\x8e\\x0ey\\xbd^I\\x92\\xd7\\xebUgg\\xa7\\xc3\\x89\\x00\\x00N\\xf3\\x18c\\x8c\\xd3!\\xce\\xd6\\xd2\\xd2\\xa2\\x85\\x0b\\x17\\xea\\x83\\x0f>\\x90$\\xc5\\xc7\\xc7+\\x1c\\x0eG\\xd6\\'$$\\x0c\\xf9>X0\\x18T0\\x18\\x94$\\xb5\\xb6\\xb6\\xaa\\xaa\\xaa*\\xaa\\xf3wv\\x1dQ\\xc7\\x89\\xa8v\\x1dWI\\xdf\\xd1\\xa8\\xe5\\xcc\\x9e\\x1a7:\\x07\\x1aFww\\xb7bcc\\xc7\\xf4\\x1c\\xa3\\x81\\x9c\\xa3\\xcf\\x96\\xac\\xe4<e\\xf5\\xea\\xd5jhh\\x18\\xb3\\xe3\\x8f&+>F\\x9f\\x94\\x94\\xa4\\xf6\\xf6vy\\xbd^\\xb5\\xb7\\xb7+11q\\xc8\\xed\\x02\\x81\\x80\\x02\\x81\\x80$)//O\\x85\\x85\\x85Q\\x9do\\xfd\\xb35z\\xf8}\\xf7\\x0f\\xcd\\xaa\\xec\\xfeQ\\xcb\\xd9RV8*\\xc7\\x19N]]]\\xd4\\x7f\\x1e\\xe3\\x89\\x9c\\xa3\\xcf\\x96\\xac\\xe4\\xb4\\x8f\\x15S\\x88\\xc5\\xc5\\xc5\\n\\x85B\\x92\\xa4P(\\xa4\\x92\\x92\\x12\\x87\\x13\\x01\\x00\\x9c\\xe6\\xba\\x02\\xbb\\xe9\\xa6\\x9b\\xf4\\xfd\\xef\\x7f_\\x1f}\\xf4\\x91\\x92\\x93\\x93\\xb5a\\xc3\\x06UTTh\\xfb\\xf6\\xedJOO\\xd7\\xf6\\xed\\xdbUQQ\\xe1tL\\x00\\x80\\xc3\\\\7O\\xb6i\\xd3\\xa6!\\x97\\xd7\\xd6\\xd6\\x8es\\x12\\x00\\x80\\x9b\\xb9\\xae\\xc0\\xe0\\x8c\\xafs\\xab)nS\\x05\\xc0\\t\\xae\\x9bB\\x04\\x00`$(0\\x00\\x80\\x95(0\\x00\\x80\\x95(0\\x00\\x80\\x95(0\\x00\\x80\\x95(0\\x00\\x80\\x95(0\\x00\\x80\\x95(0\\x00\\x80\\x95(0\\x00\\x80\\x95(0\\x00\\x80\\x95(0\\x00\\x80\\x95\\xb8\\x17\"F\\xe4\\xab\\xeew\\xf8U\\xfb\\xae\\xca\\xee\\xd7\\xf2a\\x8e\\xc1\\xbd\\x12\\xbf\\x19\\x86\\xfb\\x7fdUv\\xbf\\n\\xc77\\n\\xbe%\\xb8\\x02\\x03\\x00X\\x89+0 \\n\\xdc\\x81\\x1fp\\x1eW`\\x00\\x00+Q`\\x00\\x00+1\\x85\\x08W\\x1b\\xcb\\xa9\\xba\\xa1\\x8e}\\xfa\\x87M\\x98\\x06\\x04\\xdc\\x8d+0\\x00\\x80\\x95\\xac)\\xb0m\\xdb\\xb6\\xe9\\xf2\\xcb/WZZ\\x9a*++\\x9d\\x8e\\x03\\x00p\\x98\\x15S\\x88\\x03\\x03\\x03\\xfa\\xf5\\xaf\\x7f\\xad\\xed\\xdb\\xb7+99Y\\xf3\\xe6\\xcdSqq\\xb1f\\xcd\\x9a\\xe5t4\\x8c\\x82\\xaf\\xfb;fce\\xacr\\xd9:5\\xe9\\xd4X\\x8f\\xe5x\\x9d~\\xde\\xa1~W\\xd1\\xad\\x7fV|\\n\\xf6\\x14+\\xae\\xc0\\xea\\xeb\\xeb\\x95\\x96\\x96\\xa6\\xd4\\xd4T\\x9d\\x7f\\xfe\\xf9Z\\xb6l\\x99jjj\\x9c\\x8e\\x05\\x00p\\x90\\x15\\x05\\xd6\\xd6\\xd6\\xa6i\\xd3\\xa6E\\x1e\\'\\'\\'\\xab\\xad\\xad\\xcd\\xc1D\\x00\\x00\\xa7y\\x8c1\\xc6\\xe9\\x10_e\\xf3\\xe6\\xcdz\\xe9\\xa5\\x97\\xf4\\xe4\\x93OJ\\x92\\x9ey\\xe6\\x19\\xd5\\xd7\\xd7k\\xfd\\xfa\\xf5gl\\x17\\x0c\\x06\\x15\\x0c\\x06%I{\\xf6\\xec\\xd1\\x15W\\\\\\x11\\xd5\\xf9\\x0e\\x1c8\\xa0K.\\xb9\\xe4\\xeb\\x85\\x1e\\x07\\xb6\\xe4\\x94\\xec\\xc9J\\xce\\xd1gKVr\\x9e\\xd2\\xd2\\xd2\\xa2\\x83\\x07\\x0f\\x8e\\xd9\\xf1G\\x93\\x15\\xef\\x81%\\'\\'k\\xdf\\xbe}\\x91\\xc7\\xad\\xad\\xad\\x9a2e\\xca9\\xdb\\x05\\x02\\x01\\x05\\x02\\x81\\xaf}\\xbe\\xbc\\xbc<544|\\xed\\xe3\\x8c5[rJ\\xf6d%\\xe7\\xe8\\xb3%+9\\xedc\\xc5\\x14\\xe2\\xbcy\\xf3\\xd4\\xd4\\xd4\\xa4\\xbd{\\xf7\\xaa\\xb7\\xb7WUUU*..v:\\x16\\x00\\xc0AV\\\\\\x81\\xc5\\xc4\\xc4\\xe8\\xf1\\xc7\\x1f\\xd7\\x0f\\x7f\\xf8C\\r\\x0c\\x0ch\\xc5\\x8a\\x15\\xca\\xcc\\xcct:\\x16\\x00\\xc0A\\x13\\xd6\\xae]\\xbb\\xd6\\xe9\\x10#\\x91\\x9e\\x9e\\xae\\xdf\\xfe\\xf6\\xb7\\xba\\xf3\\xce;u\\xcd5\\xd7\\x8c\\xf9\\xf9\\xe6\\xce\\x9d;\\xe6\\xe7\\x18\\r\\xb6\\xe4\\x94\\xec\\xc9J\\xce\\xd1gKVr\\xda\\xc5\\x8a\\x0fq\\x00\\x00p6+\\xde\\x03\\x03\\x00\\xe0l\\x14\\xd8Y\\xdc|\\xcb\\xaa\\x94\\x94\\x14egg+77Wyyy\\x92\\xa4\\xae\\xae.\\xf9|>\\xa5\\xa7\\xa7\\xcb\\xe7\\xf3\\xe9\\xf0\\xe1\\xc3\\xe3\\x9ek\\xc5\\x8a\\x15JLLTVVVd\\xd9p\\xb9\\x8c1\\xba\\xe3\\x8e;\\x94\\x96\\x96\\xa6\\x9c\\x9c\\x1c\\xbd\\xf3\\xce;\\x8eg]\\xbbv\\xad\\xa6N\\x9d\\xaa\\xdc\\xdc\\\\\\xe5\\xe6\\xe6\\xea\\x85\\x17^\\x88\\xac[\\xb7n\\x9d\\xd2\\xd2\\xd2t\\xf9\\xe5\\x97\\xeb\\xa5\\x97^\\x1a\\xb7\\x9c\\xfb\\xf6\\xed\\xd3\\xfc\\xf9\\xf3\\x95\\x91\\x91\\xa1\\xcc\\xccL=\\xf6\\xd8c\\x92\\xdc7\\xae\\xc3\\xe5t\\xdb\\x98\\xf6\\xf4\\xf4(??_\\xb3g\\xcfVff\\xa6\\xd6\\xacY#I\\xda\\xbbw\\xaf\\n\\n\\n\\x94\\x9e\\x9e\\xae\\xa5K\\x97\\xaa\\xb7\\xb7W\\x92t\\xf2\\xe4I-]\\xbaTiii*((PKK\\x8b\\xa39\\x97/_\\xae\\xcb.\\xbb,2\\x9e\\x8d\\x8d\\x8d\\x92\\x9c\\x7f=9\\xce \\xa2\\xbf\\xbf\\xdf\\xa4\\xa6\\xa6\\x9a\\xe6\\xe6fs\\xf2\\xe4I\\x93\\x93\\x93cv\\xef\\xde\\xedt\\xac\\x88\\x193f\\x98\\x03\\x07\\x0e\\x9c\\xb1\\xec\\x9e{\\xee1\\xeb\\xd6\\xad3\\xc6\\x18\\xb3n\\xdd:\\xf3\\xbb\\xdf\\xfdn\\xdcs\\xbd\\xfa\\xea\\xab\\xe6\\xed\\xb7\\xdf6\\x99\\x99\\x99_\\x99k\\xeb\\xd6\\xad\\xe6\\xfa\\xeb\\xaf7\\x83\\x83\\x83\\xe6\\x8d7\\xde0\\xf9\\xf9\\xf9\\x8eg]\\xb3f\\x8dy\\xe8\\xa1\\x87\\xce\\xd9v\\xf7\\xee\\xdd&\\'\\'\\xc7\\xf4\\xf4\\xf4\\x98O>\\xf9\\xc4\\xa4\\xa6\\xa6\\x9a\\xfe\\xfe\\xfeq\\xc9\\xb9\\x7f\\xff~\\xf3\\xf6\\xdbo\\x1bc\\x8c9z\\xf4\\xa8IOO7\\xbbw\\xefv\\xdd\\xb8\\x0e\\x97\\xd3mc:88h\\x8e\\x1d;f\\x8c1\\xa6\\xb7\\xb7\\xd7\\xe4\\xe7\\xe7\\x9b7\\xdex\\xc3\\xfc\\xf4\\xa7?5\\x9b6m2\\xc6\\x18s\\xdbm\\xb7\\x99?\\xff\\xf9\\xcf\\xc6\\x18c\\x9ex\\xe2\\ts\\xdbm\\xb7\\x19c\\x8c\\xd9\\xb4i\\x93Y\\xb2d\\xc9\\x98g\\xfc\\xb2\\x9c~\\xbf\\xdfl\\xde\\xbc\\xf9\\x9c\\xed\\x9d~=9\\x8d+\\xb0\\xd3\\xd8x\\xcb\\xaa\\x9a\\x9a\\x1a\\xf9\\xfd~I\\x92\\xdf\\xefWuu\\xf5\\xb8g\\xb8\\xe6\\x9akt\\xd1E\\x17\\x8d(WMM\\x8dn\\xbe\\xf9fy<\\x1e]u\\xd5U\\n\\x87\\xc3joow4\\xebpjjj\\xb4l\\xd92M\\x9c8Q\\x97]v\\x99\\xd2\\xd2\\xd2T__?\\xc6\\tO\\xf1z\\xbd\\x9a3g\\x8e$\\xe9\\xc2\\x0b/TFF\\x86\\xda\\xda\\xda\\\\7\\xae\\xc3\\xe5\\x1c\\x8eSc\\xea\\xf1x\\x14\\x1b\\x1b+I\\xea\\xeb\\xebS__\\x9f<\\x1e\\x8fv\\xec\\xd8\\xa1\\xd2\\xd2RI\\xe7\\x8e\\xe7\\x17\\xe3\\\\ZZ\\xaa\\xda\\xdaZ\\x99q\\xf8\\xb8\\xc0p9\\x87\\xe3\\xf4\\xeb\\xc9i\\x14\\xd8i\\xdc~\\xcb*\\x8f\\xc7\\xa3\\xeb\\xae\\xbbNs\\xe7\\xce\\x8d\\xdcq\\xa4\\xa3\\xa3C^\\xafW\\xd2\\xa9\\xbfL:;;\\x9d\\x8c\\x181\\\\.\\xb7\\x8e\\xf1\\xe3\\x8f?\\xae\\x9c\\x9c\\x1c\\xadX\\xb1\"2-\\xe7\\x96\\xac---\\xda\\xb5k\\x97\\n\\n\\n\\\\=\\xae\\xa7\\xe7\\x94\\xdc7\\xa6\\x03\\x03\\x03\\xca\\xcd\\xcdUbb\\xa2|>\\x9ff\\xce\\x9c\\xa9\\xf8\\xf8x\\xc5\\xc4\\xc4\\x9c\\x93\\xe5\\xf4\\x9c111\\x8a\\x8b\\x8b\\xd3\\xa1C\\x87\\x1c\\xc9\\xf9\\xc5x\\xdew\\xdf}\\xca\\xc9\\xc9\\xd1\\xca\\x95+u\\xf2\\xe4\\xc9sr\\x9e\\xfd\\x1c\\xbe\\r(\\xb0\\xd3\\x0c\\xf5/\\xac/\\xfb\\xd7\\xcfx\\xdb\\xb9s\\xa7\\xdey\\xe7\\x1d\\xbd\\xf8\\xe2\\x8bz\\xe2\\x89\\'\\xf4\\xdak\\xaf9\\x1d\\xe9\\x7f\\xe6\\xc61\\xbe\\xfd\\xf6\\xdb\\xd5\\xdc\\xdc\\xac\\xc6\\xc6Fy\\xbd^\\xadZ\\xb5J\\x92;\\xb2vww\\xeb\\xc6\\x1bo\\xd4\\xa3\\x8f>\\xaaI\\x93&\\r\\xbb\\x9d\\xd3Y\\xcf\\xce\\xe9\\xc61\\x9d0a\\x82\\x1a\\x1b\\x1b\\xd5\\xda\\xda\\xaa\\xfa\\xfaz}\\xf8\\xe1\\x87\\xc3fqS\\xce\\x0f>\\xf8@\\xeb\\xd6\\xad\\xd3\\x9e={\\xf4\\xd6[o\\xa9\\xab\\xabK\\x0f>\\xf8\\xa0\\xe39\\xdd\\x80\\x02;\\xcdHoY\\xe5\\x94/\\xb2$&&j\\xd1\\xa2E\\xaa\\xaf\\xafWRRRd\\xca\\xa0\\xbd\\xbd]\\x89\\x89\\x89NF\\x8c\\x18.\\x97\\x1b\\xc78))I\\x13&L\\xd0y\\xe7\\x9d\\xa7_\\xfc\\xe2\\x17\\x91)-\\xa7\\xb3\\xf6\\xf5\\xf5\\xe9\\xc6\\x1boTYY\\x99\\x16/^\\x1c\\xc9\\xea\\xb6q\\x1d.\\xa7\\x1b\\xc7T\\x92\\xe2\\xe3\\xe3UXX\\xa87\\xdf|S\\xe1pX\\xfd\\xfd\\xfd\\xe7d9=g\\x7f\\x7f\\xbf\\x8e\\x1c92\\xe2\\xa9\\xe7\\xd1\\xce\\xb9m\\xdb6y\\xbd^y<\\x1eM\\x9c8Q\\xb7\\xdcr\\x8b\\xab\\xc6\\xd3I\\x14\\xd8i\\xdc|\\xcb\\xaa\\xe3\\xc7\\x8f\\xeb\\xd8\\xb1c\\x91\\x9f_~\\xf9eeee\\xa9\\xb8\\xb8X\\xa1PH\\x92\\x14\\n\\x85TRR\\xe2d\\xcc\\x88\\xe1r\\x15\\x17\\x17\\xeb\\xe9\\xa7\\x9f\\x961Fo\\xbe\\xf9\\xa6\\xe2\\xe2\\xe2\"SbN9\\xfd=\\x83\\xe7\\x9f\\x7f>\\xf2\\t\\xc5\\xe2\\xe2bUUU\\xe9\\xe4\\xc9\\x93\\xda\\xbbw\\xaf\\x9a\\x9a\\x9a\\x94\\x9f\\x9f?.\\x99\\x8c1*//WFF\\x86\\xee\\xbe\\xfb\\xee\\xc8r\\xb7\\x8d\\xebp9\\xdd6\\xa6\\x07\\x0e\\x1cP8\\x1c\\x96$\\x9d8qB\\xaf\\xbc\\xf2\\x8a2224\\x7f\\xfe|m\\xd9\\xb2E\\xd2\\xb9\\xe3\\xf9\\xc58o\\xd9\\xb2E\\x0b\\x16,\\x18\\x97+\\x9b\\xa1r^q\\xc5\\x15\\x91\\xf14\\xc6\\xa8\\xba\\xba\\xfa\\x8c\\xf1t\\xdb\\xebi\\\\9\\xf1\\xc9\\x117\\xdb\\xbau\\xabIOO7\\xa9\\xa9\\xa9\\xe6\\x81\\x07\\x1ep:NDss\\xb3\\xc9\\xc9\\xc91999f\\xd6\\xacY\\x91l\\x07\\x0f\\x1e4\\x0b\\x16,0iiif\\xc1\\x82\\x05\\xe6\\xd0\\xa1C\\xe3\\x9em\\xd9\\xb2e\\xe6\\xd2K/5111f\\xea\\xd4\\xa9\\xe6\\xc9\\'\\x9f\\x1c6\\xd7\\xe0\\xe0\\xa0\\xf9\\xd5\\xaf~eRSSMVV\\x96y\\xeb\\xad\\xb7\\x1c\\xcf\\xfa\\xf3\\x9f\\xff\\xdcdee\\x99\\xec\\xecl\\xf3\\x93\\x9f\\xfc\\xc4\\xec\\xdf\\xbf?\\xb2\\xfd\\x03\\x0f<`RSS\\xcd\\xf7\\xbe\\xf7=\\xf3\\xc2\\x0b/\\x8c[\\xce\\xd7_\\x7f\\xddH2\\xd9\\xd9\\xd9f\\xf6\\xec\\xd9f\\xf6\\xec\\xd9f\\xeb\\xd6\\xad\\xae\\x1b\\xd7\\xe1r\\xbamL\\xdf}\\xf7]\\x93\\x9b\\x9bk\\xb2\\xb3\\xb3Mff\\xa6\\xf9\\xc3\\x1f\\xfe`\\x8c9\\xf5\\xba\\x9a7o\\x9e\\x999s\\xa6)--5===\\xc6\\x18cN\\x9c8aJKK\\xcd\\xcc\\x993\\xcd\\xbcy\\xf3Lss\\xb3\\xa39\\xe7\\xcf\\x9fo\\xb2\\xb2\\xb2Lff\\xa6)++\\x8b|R\\xd1\\xe9\\xd7\\x93\\xd3\\xb8\\x13\\x07\\x00\\xc0JL!\\x02\\x00\\xacD\\x81\\x01\\x00\\xacD\\x81\\x01\\x00\\xacD\\x81\\x01\\x00\\xacD\\x81\\x01\\x00\\xacD\\x81\\x01\\x00\\xacD\\x81\\x01\\x00\\xacD\\x81\\x01\\x00\\xacD\\x81\\x01\\x00\\xacD\\x81\\x01\\x00\\xacD\\x81\\x01\\x00\\xacD\\x81\\x01\\x00\\xacD\\x81\\x01\\x00\\xacD\\x81\\x01\\x00\\xacD\\x81\\x01\\x00\\xacD\\x81\\x01\\x00\\xacD\\x81\\x01\\x00\\xacD\\x81\\x01\\x00\\xacD\\x81\\x01\\x00\\xacD\\x81\\x01\\x00\\xac\\xf4\\xff\\x878\\x91\\xa2B\\x912\\x14\\x00\\x00\\x00\\x00IEND\\xaeB`\\x82'"
      ]
     },
     "execution_count": 54,
     "metadata": {},
     "output_type": "execute_result"
    }
   ],
   "source": [
    "response['Body'].read()"
   ]
  },
  {
   "cell_type": "code",
   "execution_count": 56,
   "metadata": {},
   "outputs": [],
   "source": [
    "s3.download_file(Bucket=bucket_name,\n",
    "                 Key=remote_pathname,\n",
    "                 Filename=\"downloaded-\" + file_name)"
   ]
  },
  {
   "cell_type": "code",
   "execution_count": null,
   "metadata": {},
   "outputs": [],
   "source": []
  }
 ],
 "metadata": {
  "kernelspec": {
   "display_name": "Python 3",
   "language": "python",
   "name": "python3"
  },
  "language_info": {
   "codemirror_mode": {
    "name": "ipython",
    "version": 3
   },
   "file_extension": ".py",
   "mimetype": "text/x-python",
   "name": "python",
   "nbconvert_exporter": "python",
   "pygments_lexer": "ipython3",
   "version": "3.6.7"
  }
 },
 "nbformat": 4,
 "nbformat_minor": 2
}
